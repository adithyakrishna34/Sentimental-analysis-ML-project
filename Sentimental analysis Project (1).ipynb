{
 "cells": [
  {
   "cell_type": "code",
   "execution_count": 5,
   "id": "76ae2c47",
   "metadata": {},
   "outputs": [],
   "source": [
    "import pandas as pd"
   ]
  },
  {
   "cell_type": "code",
   "execution_count": 6,
   "id": "5b163b35",
   "metadata": {},
   "outputs": [],
   "source": [
    "import numpy as np"
   ]
  },
  {
   "cell_type": "code",
   "execution_count": 7,
   "id": "26f43c64",
   "metadata": {},
   "outputs": [],
   "source": [
    " df=pd.read_csv('labelled colgate product reviews.csv')\n"
   ]
  },
  {
   "cell_type": "code",
   "execution_count": 8,
   "id": "aad7c85b",
   "metadata": {},
   "outputs": [
    {
     "data": {
      "text/html": [
       "<div>\n",
       "<style scoped>\n",
       "    .dataframe tbody tr th:only-of-type {\n",
       "        vertical-align: middle;\n",
       "    }\n",
       "\n",
       "    .dataframe tbody tr th {\n",
       "        vertical-align: top;\n",
       "    }\n",
       "\n",
       "    .dataframe thead th {\n",
       "        text-align: right;\n",
       "    }\n",
       "</style>\n",
       "<table border=\"1\" class=\"dataframe\">\n",
       "  <thead>\n",
       "    <tr style=\"text-align: right;\">\n",
       "      <th></th>\n",
       "      <th>Text</th>\n",
       "      <th>Label</th>\n",
       "      <th>Unnamed: 2</th>\n",
       "      <th>Unnamed: 3</th>\n",
       "    </tr>\n",
       "  </thead>\n",
       "  <tbody>\n",
       "    <tr>\n",
       "      <th>0</th>\n",
       "      <td>Colgate toothpaste leaves my teeth feeling inc...</td>\n",
       "      <td>Positive</td>\n",
       "      <td>NaN</td>\n",
       "      <td>NaN</td>\n",
       "    </tr>\n",
       "    <tr>\n",
       "      <th>1</th>\n",
       "      <td>Since switching to Colgate, I've noticed a sig...</td>\n",
       "      <td>Positive</td>\n",
       "      <td>NaN</td>\n",
       "      <td>NaN</td>\n",
       "    </tr>\n",
       "    <tr>\n",
       "      <th>2</th>\n",
       "      <td>The whitening effect of Colgate toothpaste is ...</td>\n",
       "      <td>Positive</td>\n",
       "      <td>NaN</td>\n",
       "      <td>NaN</td>\n",
       "    </tr>\n",
       "    <tr>\n",
       "      <th>3</th>\n",
       "      <td>I appreciate the gentle formula of Colgate. It...</td>\n",
       "      <td>Positive</td>\n",
       "      <td>NaN</td>\n",
       "      <td>NaN</td>\n",
       "    </tr>\n",
       "    <tr>\n",
       "      <th>4</th>\n",
       "      <td>Colgate's long-lasting freshness is unbeatable...</td>\n",
       "      <td>Positive</td>\n",
       "      <td>NaN</td>\n",
       "      <td>NaN</td>\n",
       "    </tr>\n",
       "    <tr>\n",
       "      <th>...</th>\n",
       "      <td>...</td>\n",
       "      <td>...</td>\n",
       "      <td>...</td>\n",
       "      <td>...</td>\n",
       "    </tr>\n",
       "    <tr>\n",
       "      <th>995</th>\n",
       "      <td>soap for teethColgate might be better suited a...</td>\n",
       "      <td>Negative</td>\n",
       "      <td>NaN</td>\n",
       "      <td>NaN</td>\n",
       "    </tr>\n",
       "    <tr>\n",
       "      <th>996</th>\n",
       "      <td>I was suffering from bad breath and gum proble...</td>\n",
       "      <td>Negative</td>\n",
       "      <td>NaN</td>\n",
       "      <td>NaN</td>\n",
       "    </tr>\n",
       "    <tr>\n",
       "      <th>997</th>\n",
       "      <td>Do NOT buy this colgate paste. I would like to...</td>\n",
       "      <td>Negative</td>\n",
       "      <td>NaN</td>\n",
       "      <td>NaN</td>\n",
       "    </tr>\n",
       "    <tr>\n",
       "      <th>998</th>\n",
       "      <td>Wont ever use this again in my life</td>\n",
       "      <td>Negative</td>\n",
       "      <td>NaN</td>\n",
       "      <td>NaN</td>\n",
       "    </tr>\n",
       "    <tr>\n",
       "      <th>999</th>\n",
       "      <td>Colgate's effectiveness and flavor variety fai...</td>\n",
       "      <td>Negative</td>\n",
       "      <td>NaN</td>\n",
       "      <td>NaN</td>\n",
       "    </tr>\n",
       "  </tbody>\n",
       "</table>\n",
       "<p>1000 rows × 4 columns</p>\n",
       "</div>"
      ],
      "text/plain": [
       "                                                  Text     Label  Unnamed: 2  \\\n",
       "0    Colgate toothpaste leaves my teeth feeling inc...  Positive         NaN   \n",
       "1    Since switching to Colgate, I've noticed a sig...  Positive         NaN   \n",
       "2    The whitening effect of Colgate toothpaste is ...  Positive         NaN   \n",
       "3    I appreciate the gentle formula of Colgate. It...  Positive         NaN   \n",
       "4    Colgate's long-lasting freshness is unbeatable...  Positive         NaN   \n",
       "..                                                 ...       ...         ...   \n",
       "995  soap for teethColgate might be better suited a...  Negative         NaN   \n",
       "996  I was suffering from bad breath and gum proble...  Negative         NaN   \n",
       "997  Do NOT buy this colgate paste. I would like to...  Negative         NaN   \n",
       "998                Wont ever use this again in my life  Negative         NaN   \n",
       "999  Colgate's effectiveness and flavor variety fai...  Negative         NaN   \n",
       "\n",
       "     Unnamed: 3  \n",
       "0           NaN  \n",
       "1           NaN  \n",
       "2           NaN  \n",
       "3           NaN  \n",
       "4           NaN  \n",
       "..          ...  \n",
       "995         NaN  \n",
       "996         NaN  \n",
       "997         NaN  \n",
       "998         NaN  \n",
       "999         NaN  \n",
       "\n",
       "[1000 rows x 4 columns]"
      ]
     },
     "execution_count": 8,
     "metadata": {},
     "output_type": "execute_result"
    }
   ],
   "source": [
    "df"
   ]
  },
  {
   "cell_type": "code",
   "execution_count": 9,
   "id": "f3df918e",
   "metadata": {},
   "outputs": [],
   "source": [
    "from sklearn.feature_extraction.text import CountVectorizer"
   ]
  },
  {
   "cell_type": "code",
   "execution_count": 10,
   "id": "4199e20e",
   "metadata": {},
   "outputs": [],
   "source": [
    "from sklearn.naive_bayes import BernoulliNB,MultinomialNB"
   ]
  },
  {
   "cell_type": "code",
   "execution_count": 11,
   "id": "c5a2b32b",
   "metadata": {},
   "outputs": [],
   "source": [
    "vectorizer1 = CountVectorizer(binary = True)\n",
    "vectorizer2 = CountVectorizer(binary = False)\n"
   ]
  },
  {
   "cell_type": "code",
   "execution_count": 12,
   "id": "d7c2d07d",
   "metadata": {},
   "outputs": [],
   "source": [
    "x1 = vectorizer1.fit_transform(df.Text)\n",
    "x2 = vectorizer2.fit_transform(df.Text)"
   ]
  },
  {
   "cell_type": "code",
   "execution_count": 13,
   "id": "396c88a1",
   "metadata": {},
   "outputs": [],
   "source": [
    "y = df.Label"
   ]
  },
  {
   "cell_type": "code",
   "execution_count": 14,
   "id": "62e7b1ab",
   "metadata": {},
   "outputs": [],
   "source": [
    " from sklearn.model_selection import train_test_split\n",
    "xtrain1,xtest1,ytrain,ytest = train_test_split(x1,y,test_size=0.25,random_state=42)"
   ]
  },
  {
   "cell_type": "code",
   "execution_count": 15,
   "id": "b4d58062",
   "metadata": {},
   "outputs": [],
   "source": [
    "xtrain2,xtest2,ytrain,ytest = train_test_split(x2,y,test_size=0.25,random_state=42)\n"
   ]
  },
  {
   "cell_type": "code",
   "execution_count": 16,
   "id": "19c3d491",
   "metadata": {},
   "outputs": [],
   "source": [
    "bnb = BernoulliNB()\n",
    "mnb = MultinomialNB()\n"
   ]
  },
  {
   "cell_type": "code",
   "execution_count": 17,
   "id": "fab338b5",
   "metadata": {},
   "outputs": [
    {
     "data": {
      "text/plain": [
       "BernoulliNB()"
      ]
     },
     "execution_count": 17,
     "metadata": {},
     "output_type": "execute_result"
    }
   ],
   "source": [
    "bnb.fit(xtrain1,ytrain)"
   ]
  },
  {
   "cell_type": "code",
   "execution_count": 18,
   "id": "0c8efb56",
   "metadata": {},
   "outputs": [
    {
     "data": {
      "text/plain": [
       "MultinomialNB()"
      ]
     },
     "execution_count": 18,
     "metadata": {},
     "output_type": "execute_result"
    }
   ],
   "source": [
    "mnb.fit(xtrain2,ytrain)"
   ]
  },
  {
   "cell_type": "code",
   "execution_count": 19,
   "id": "1f8cdad8",
   "metadata": {},
   "outputs": [],
   "source": [
    " predictions = bnb.predict(xtest1)"
   ]
  },
  {
   "cell_type": "code",
   "execution_count": 20,
   "id": "2bc13c02",
   "metadata": {},
   "outputs": [],
   "source": [
    "predictions1 = mnb.predict(xtest2)\n"
   ]
  },
  {
   "cell_type": "code",
   "execution_count": 21,
   "id": "2141c088",
   "metadata": {},
   "outputs": [],
   "source": [
    "from sklearn.metrics import accuracy_score\n"
   ]
  },
  {
   "cell_type": "code",
   "execution_count": 22,
   "id": "7d06c55d",
   "metadata": {},
   "outputs": [
    {
     "data": {
      "text/plain": [
       "0.832"
      ]
     },
     "execution_count": 22,
     "metadata": {},
     "output_type": "execute_result"
    }
   ],
   "source": [
    "accuracy_score(ytest,predictions)\n"
   ]
  },
  {
   "cell_type": "code",
   "execution_count": 23,
   "id": "24eb0c93",
   "metadata": {},
   "outputs": [
    {
     "data": {
      "text/plain": [
       "0.84"
      ]
     },
     "execution_count": 23,
     "metadata": {},
     "output_type": "execute_result"
    }
   ],
   "source": [
    " accuracy_score(ytest,predictions1)\n"
   ]
  },
  {
   "cell_type": "code",
   "execution_count": 24,
   "id": "3aaca510",
   "metadata": {},
   "outputs": [],
   "source": [
    "from sklearn.feature_extraction.text import TfidfVectorizer"
   ]
  },
  {
   "cell_type": "code",
   "execution_count": 25,
   "id": "00ff17b4",
   "metadata": {},
   "outputs": [],
   "source": [
    "vector1 = TfidfVectorizer(binary = False)"
   ]
  },
  {
   "cell_type": "code",
   "execution_count": 26,
   "id": "02b10a91",
   "metadata": {},
   "outputs": [],
   "source": [
    "x2 = vector1.fit_transform(df.Text)"
   ]
  },
  {
   "cell_type": "code",
   "execution_count": 27,
   "id": "616a65db",
   "metadata": {},
   "outputs": [],
   "source": [
    "from sklearn.model_selection import train_test_split"
   ]
  },
  {
   "cell_type": "code",
   "execution_count": 28,
   "id": "9a890647",
   "metadata": {},
   "outputs": [],
   "source": [
    "xtrain2,xtest2,ytrain,ytest = train_test_split(x2,y,test_size=0.25,random_state=42)\n"
   ]
  },
  {
   "cell_type": "code",
   "execution_count": 29,
   "id": "a16277fa",
   "metadata": {},
   "outputs": [],
   "source": [
    " mnb = MultinomialNB()"
   ]
  },
  {
   "cell_type": "code",
   "execution_count": 30,
   "id": "0aa018f6",
   "metadata": {},
   "outputs": [
    {
     "data": {
      "text/plain": [
       "MultinomialNB()"
      ]
     },
     "execution_count": 30,
     "metadata": {},
     "output_type": "execute_result"
    }
   ],
   "source": [
    " mnb.fit(xtrain2,ytrain)"
   ]
  },
  {
   "cell_type": "code",
   "execution_count": 31,
   "id": "bbd47ef8",
   "metadata": {},
   "outputs": [],
   "source": [
    "predictions1 = mnb.predict(xtest2)"
   ]
  },
  {
   "cell_type": "code",
   "execution_count": 32,
   "id": "a599f38d",
   "metadata": {},
   "outputs": [],
   "source": [
    "from sklearn.metrics import accuracy_score"
   ]
  },
  {
   "cell_type": "code",
   "execution_count": 33,
   "id": "47e075dd",
   "metadata": {},
   "outputs": [
    {
     "data": {
      "text/plain": [
       "0.848"
      ]
     },
     "execution_count": 33,
     "metadata": {},
     "output_type": "execute_result"
    }
   ],
   "source": [
    " accuracy_score(ytest,predictions1)"
   ]
  },
  {
   "cell_type": "code",
   "execution_count": 39,
   "id": "5c7917b4",
   "metadata": {},
   "outputs": [
    {
     "name": "stdout",
     "output_type": "stream",
     "text": [
      "Enter a sentence for sentiment prediction: Idiot\n",
      "Prediction with TfidfVectorizer: Positive\n"
     ]
    }
   ],
   "source": [
    "# User input for prediction\n",
    "user_input = input(\"Enter a sentence for sentiment prediction: \")\n",
    "\n",
    "# Transform the user input\n",
    "\n",
    "\n",
    "user_input_transformed3 = vector1.transform([user_input])\n",
    "\n",
    "# Predict sentiment\n",
    "\n",
    "\n",
    "user_pred3 = mnb.predict(user_input_transformed3)\n",
    "\n",
    "# Output the predictions\n",
    "\n",
    "print(f\"Prediction with TfidfVectorizer: {user_pred3[0]}\")"
   ]
  },
  {
   "cell_type": "code",
   "execution_count": null,
   "id": "1b6ab3d6",
   "metadata": {},
   "outputs": [],
   "source": []
  }
 ],
 "metadata": {
  "kernelspec": {
   "display_name": "Python 3",
   "language": "python",
   "name": "python3"
  },
  "language_info": {
   "codemirror_mode": {
    "name": "ipython",
    "version": 3
   },
   "file_extension": ".py",
   "mimetype": "text/x-python",
   "name": "python",
   "nbconvert_exporter": "python",
   "pygments_lexer": "ipython3",
   "version": "3.8.8"
  }
 },
 "nbformat": 4,
 "nbformat_minor": 5
}
